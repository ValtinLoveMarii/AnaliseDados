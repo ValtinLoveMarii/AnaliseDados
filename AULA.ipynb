{
 "cells": [
  {
   "cell_type": "code",
   "execution_count": null,
   "id": "766a3c85",
   "metadata": {},
   "outputs": [],
   "source": [
    "import pandas as pd"
   ]
  },
  {
   "cell_type": "code",
   "execution_count": null,
   "id": "e32f7c12",
   "metadata": {},
   "outputs": [],
   "source": [
    "\"\"\"IMPORTAR OS DADOS\"\"\"\n",
    "df = pd.read_excel('vendas_loja.xlsx')\n",
    "display(df)\n",
    "\n",
    "\"\"\"\"CRIAR DATAFRAME\"\"\"\n",
    "v = pd.DataFrame({'a':[12,12,12]})"
   ]
  },
  {
   "cell_type": "code",
   "execution_count": null,
   "id": "027fb43c",
   "metadata": {},
   "outputs": [],
   "source": [
    "\"\"\"PEGAR COLUNAS E LINHAS ESPECÍFICAS\"\"\"\n",
    "#coluna\n",
    "# display(df['Data'])\n",
    "\n",
    "#linha\n",
    "# display(df[(df['Produto'] == 'Camisa')]) #ou com mais condiçoes df[df['Produto'] == 'Camisa'] & df[df['Qtd'] > 10]\n",
    "\n",
    "#adicionar coluna\n",
    "# df['Cor'] = 'Neutro' # ou assim para q tudo da coluna seja igual a 0 df[: 'Coluna'] = 0\n",
    "\n",
    "#apagar a coluna\n",
    "# df = df.drop('Cor', axis=1) #ou a linha pelo indece dela df = df[0, axis=0]\n",
    "\n",
    "#verificar o maior valor\n",
    "# df.sort_values(by='Preço Unitário', ascending=False)"
   ]
  },
  {
   "cell_type": "code",
   "execution_count": null,
   "id": "31aa7783",
   "metadata": {},
   "outputs": [],
   "source": [
    "\"\"\"ILOC\"\"\" \n",
    "df.iloc[1]\n",
    "df.iloc[1, 3]"
   ]
  }
 ],
 "metadata": {
  "kernelspec": {
   "display_name": "Python 3",
   "language": "python",
   "name": "python3"
  },
  "language_info": {
   "codemirror_mode": {
    "name": "ipython",
    "version": 3
   },
   "file_extension": ".py",
   "mimetype": "text/x-python",
   "name": "python",
   "nbconvert_exporter": "python",
   "pygments_lexer": "ipython3",
   "version": "3.13.5"
  }
 },
 "nbformat": 4,
 "nbformat_minor": 5
}
