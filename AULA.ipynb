{
 "cells": [
  {
   "cell_type": "markdown",
   "id": "b35fbd29",
   "metadata": {},
   "source": [
    "1.1 Importando Dataset"
   ]
  },
  {
   "cell_type": "code",
   "execution_count": null,
   "id": "a6b7c615",
   "metadata": {},
   "outputs": [],
   "source": [
    "import pandas as pd\n",
    "\n",
    "data = pd.read_csv('GasPricesinBrazil_2004-2019.csv', sep=';')"
   ]
  },
  {
   "cell_type": "markdown",
   "id": "33e1f8ba",
   "metadata": {},
   "source": [
    "1.2 Mostrando as Colunas e dados do Dataset"
   ]
  },
  {
   "cell_type": "code",
   "execution_count": null,
   "id": "5f51fdd7",
   "metadata": {},
   "outputs": [],
   "source": [
    "data.head(5) # Mostra as 5 primeiras linhas do dataset\n",
    "data.info() # Mostra as colunas e o tipo de dado de cada coluna\n",
    "type(data) # Mostra o tipo do objeto data\n",
    "data.shape # Mostra a quantidade de linhas e colunas do dataset"
   ]
  },
  {
   "cell_type": "markdown",
   "id": "f94915ee",
   "metadata": {},
   "source": [
    "1.3 Criar um Dataframe"
   ]
  },
  {
   "cell_type": "code",
   "execution_count": null,
   "id": "a25ae5a4",
   "metadata": {},
   "outputs": [
    {
     "data": {
      "text/html": [
       "<div>\n",
       "<style scoped>\n",
       "    .dataframe tbody tr th:only-of-type {\n",
       "        vertical-align: middle;\n",
       "    }\n",
       "\n",
       "    .dataframe tbody tr th {\n",
       "        vertical-align: top;\n",
       "    }\n",
       "\n",
       "    .dataframe thead th {\n",
       "        text-align: right;\n",
       "    }\n",
       "</style>\n",
       "<table border=\"1\" class=\"dataframe\">\n",
       "  <thead>\n",
       "    <tr style=\"text-align: right;\">\n",
       "      <th></th>\n",
       "      <th>Game</th>\n",
       "      <th>Age</th>\n",
       "      <th>Weight</th>\n",
       "      <th>ProPlayer</th>\n",
       "    </tr>\n",
       "  </thead>\n",
       "  <tbody>\n",
       "    <tr>\n",
       "      <th>0</th>\n",
       "      <td>Fortnite</td>\n",
       "      <td>17</td>\n",
       "      <td>70</td>\n",
       "      <td>True</td>\n",
       "    </tr>\n",
       "    <tr>\n",
       "      <th>1</th>\n",
       "      <td>Minecraft</td>\n",
       "      <td>12</td>\n",
       "      <td>50</td>\n",
       "      <td>False</td>\n",
       "    </tr>\n",
       "    <tr>\n",
       "      <th>2</th>\n",
       "      <td>Roblox</td>\n",
       "      <td>15</td>\n",
       "      <td>60</td>\n",
       "      <td>True</td>\n",
       "    </tr>\n",
       "  </tbody>\n",
       "</table>\n",
       "</div>"
      ],
      "text/plain": [
       "        Game  Age  Weight  ProPlayer\n",
       "0   Fortnite   17      70       True\n",
       "1  Minecraft   12      50      False\n",
       "2     Roblox   15      60       True"
      ]
     },
     "execution_count": 38,
     "metadata": {},
     "output_type": "execute_result"
    }
   ],
   "source": [
    "#COLUNAS -  Index Jogo Idade Peso Gamer\n",
    "#O nome das colunas podem ter espaços, mas é recomendado não ter\n",
    "\n",
    "alunos_df = pd.DataFrame({\n",
    "    'Jogo': ['Fortnite', 'Minecraft', 'Roblox'],\n",
    "    'Idade': [17, 12, 15],\n",
    "    'Peso': [70, 50, 60],\n",
    "    'Gamer': [True, False, True]\n",
    "})\n",
    "\n",
    "\n",
    "#Retornar uma lista com as colunas do DataFrame\n",
    "alunos_df.columns # ou usar assim para criar uma lista limpa - alunos_df.columns.tolist() \n",
    "\n",
    "#Renomear o nome das colunas, criando um cópioa do DataFrame\n",
    "new_alunos = alunos_df.rename(columns={\n",
    "    'Jogo': 'Game',\n",
    "    'Idade': 'Nascimento',\n",
    "})\n",
    "# display(new_alunos)\n",
    "\n",
    "\n",
    "#MUdar a coluna na mesma variável/dataframe\n",
    "alunos_df.rename(columns={\n",
    "    'Jogo': 'Game_OK',\n",
    "}, inplace=True)\n",
    "# display(alunos_df)\n",
    "\n",
    "#Mudar todos as colunas de uma vez\n",
    "# alunos_df.columns.tolist()\n",
    "alunos_df.columns = ['Game', 'Age', 'Weight', 'ProPlayer']\n",
    "alunos_df"
   ]
  }
 ],
 "metadata": {
  "kernelspec": {
   "display_name": "Python 3",
   "language": "python",
   "name": "python3"
  },
  "language_info": {
   "codemirror_mode": {
    "name": "ipython",
    "version": 3
   },
   "file_extension": ".py",
   "mimetype": "text/x-python",
   "name": "python",
   "nbconvert_exporter": "python",
   "pygments_lexer": "ipython3",
   "version": "3.13.7"
  }
 },
 "nbformat": 4,
 "nbformat_minor": 5
}
