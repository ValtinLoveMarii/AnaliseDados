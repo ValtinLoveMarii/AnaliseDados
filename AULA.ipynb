{
 "cells": [
  {
   "cell_type": "markdown",
   "id": "b35fbd29",
   "metadata": {},
   "source": [
    "1.1 Importando Dataset"
   ]
  },
  {
   "cell_type": "code",
   "execution_count": null,
   "id": "a6b7c615",
   "metadata": {},
   "outputs": [],
   "source": [
    "import pandas as pd\n",
    "\n",
    "data = pd.read_csv('GasPricesinBrazil_2004-2019.csv', sep=';')"
   ]
  },
  {
   "cell_type": "markdown",
   "id": "33e1f8ba",
   "metadata": {},
   "source": [
    "1.2 Mostrando as Colunas e dados do Dataset"
   ]
  },
  {
   "cell_type": "code",
   "execution_count": null,
   "id": "5f51fdd7",
   "metadata": {},
   "outputs": [],
   "source": [
    "data.head(5) # Mostra as 5 primeiras linhas do dataset\n",
    "data.info() # Mostra as colunas e o tipo de dado de cada coluna\n",
    "type(data) # Mostra o tipo do objeto data\n",
    "data.shape # Mostra a quantidade de linhas e colunas do dataset"
   ]
  },
  {
   "cell_type": "markdown",
   "id": "f94915ee",
   "metadata": {},
   "source": [
    "1.3 Criar um Dataframe"
   ]
  },
  {
   "cell_type": "code",
   "execution_count": null,
   "id": "a25ae5a4",
   "metadata": {},
   "outputs": [],
   "source": [
    "#COLUNAS -  Index Jogo Idade Peso Gamer\n",
    "#O nome das colunas podem ter espaços, mas é recomendado não ter\n",
    "\n",
    "alunos_df = pd.DataFrame({\n",
    "    'Jogo': ['Fortnite', 'Minecraft', 'Roblox'],\n",
    "    'Idade': [17, 12, 15],\n",
    "    'Peso': [70, 50, 60],\n",
    "    'Gamer': [True, False, True]\n",
    "})\n",
    "\n",
    "\n",
    "#Retornar uma lista com as colunas do DataFrame\n",
    "alunos_df.columns # ou usar assim para criar uma lista limpa - alunos_df.columns.tolist() \n",
    "\n",
    "#Renomear o nome das colunas, criando um cópioa do DataFrame\n",
    "new_alunos = alunos_df.rename(columns={\n",
    "    'Jogo': 'Game',\n",
    "    'Idade': 'Nascimento',\n",
    "})\n",
    "# display(new_alunos)\n",
    "\n",
    "\n",
    "#MUdar a coluna na mesma variável/dataframe\n",
    "alunos_df.rename(columns={\n",
    "    'Jogo': 'Game_OK',\n",
    "}, inplace=True)\n",
    "# display(alunos_df)\n",
    "\n",
    "#Mudar todos as colunas de uma vez\n",
    "# alunos_df.columns.tolist()\n",
    "alunos_df.columns = ['Game', 'Age', 'Weight', 'ProPlayer']\n",
    "alunos_df"
   ]
  },
  {
   "cell_type": "markdown",
   "id": "9cd2d4df",
   "metadata": {},
   "source": [
    "1.4 Series"
   ]
  },
  {
   "cell_type": "code",
   "execution_count": null,
   "id": "44f05a60",
   "metadata": {},
   "outputs": [],
   "source": [
    "data['ESTADO'] # SELECIONANDO UMA COLUNA INTEIRA\n",
    "# data.ESTADO #SO FUNCIONA PARA COLUNAS COM O NOME SEM ESPACO\n",
    "\n",
    "data.iloc[12] # RETORNA A LINHA DO INDICE 12\n",
    "\n",
    "#CRIAR SERIES (COLUNAS OU LINHAS)\n",
    "# pd.Series([9,1,2])\n"
   ]
  },
  {
   "cell_type": "markdown",
   "id": "08a676bd",
   "metadata": {},
   "source": [
    "1.5 Atribuindo Dados no Dataframe"
   ]
  },
  {
   "cell_type": "code",
   "execution_count": null,
   "id": "5fc6b0b7",
   "metadata": {},
   "outputs": [],
   "source": []
  }
 ],
 "metadata": {
  "kernelspec": {
   "display_name": "Python 3",
   "language": "python",
   "name": "python3"
  },
  "language_info": {
   "codemirror_mode": {
    "name": "ipython",
    "version": 3
   },
   "file_extension": ".py",
   "mimetype": "text/x-python",
   "name": "python",
   "nbconvert_exporter": "python",
   "pygments_lexer": "ipython3",
   "version": "3.13.7"
  }
 },
 "nbformat": 4,
 "nbformat_minor": 5
}
