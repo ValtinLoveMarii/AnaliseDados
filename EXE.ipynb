{
 "cells": [
  {
   "cell_type": "markdown",
   "id": "33c50015",
   "metadata": {},
   "source": [
    "ARQUIVO PARA OS EXERCÍVIOS"
   ]
  },
  {
   "cell_type": "code",
   "execution_count": null,
   "id": "d0abc70e",
   "metadata": {},
   "outputs": [],
   "source": [
    "\"\"\"IMPORTANANDO OS DADOS E O PANDAS\"\"\"\n",
    "import pandas as pd\n",
    "df = pd.read_csv('GasPricesinBrazil_2004-2019.csv', sep=';')"
   ]
  },
  {
   "cell_type": "code",
   "execution_count": null,
   "id": "14753aeb",
   "metadata": {},
   "outputs": [],
   "source": [
    "#EX1 - Criar um DataFrame simples com um dicionário Python (com colunas: \"Nome\", \"Idade\", \"Cidade\").\n",
    "df = pd.DataFrame({\n",
    "    'Nome': ['Gael', 'Lorenzo'],\n",
    "    'Idade': [12, 13],\n",
    "    'Cidade': ['BC', 'SP']\n",
    "})\n",
    "\n",
    "#EX2 - Exibir as primeiras 2 linhas de um DataFrame.\n",
    "df.head(2)\n",
    "\n",
    "#EX3 - Exibir os nomes das colunas de um DataFrame.\n",
    "df.columns.tolist()\n",
    "\n",
    "#EX4 - Renomear colunas de um DataFrame (ex: mudar \"Nome\" para \"Primeiro_Nome\").\n",
    "df.rename(columns={'Nome':'Name', 'Idade': 'Age'}, inplace=True)\n",
    "\n",
    "#EX5 - Selecionar múltiplas colunas.\n",
    "display(df[['Age', 'Cidade']])"
   ]
  }
 ],
 "metadata": {
  "kernelspec": {
   "display_name": "Python 3",
   "language": "python",
   "name": "python3"
  },
  "language_info": {
   "codemirror_mode": {
    "name": "ipython",
    "version": 3
   },
   "file_extension": ".py",
   "mimetype": "text/x-python",
   "name": "python",
   "nbconvert_exporter": "python",
   "pygments_lexer": "ipython3",
   "version": "3.13.7"
  }
 },
 "nbformat": 4,
 "nbformat_minor": 5
}
