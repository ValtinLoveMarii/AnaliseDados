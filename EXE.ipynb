{
 "cells": [
  {
   "cell_type": "markdown",
   "id": "33c50015",
   "metadata": {},
   "source": [
    "                                            ARQUIVO PARA OS EXERCÍVIOS"
   ]
  },
  {
   "cell_type": "code",
   "execution_count": 3,
   "id": "d0abc70e",
   "metadata": {},
   "outputs": [],
   "source": [
    "\"\"\"IMPORTANANDO OS DADOS E O PANDAS\"\"\"\n",
    "import pandas as pd"
   ]
  },
  {
   "cell_type": "code",
   "execution_count": null,
   "id": "14753aeb",
   "metadata": {},
   "outputs": [],
   "source": []
  }
 ],
 "metadata": {
  "kernelspec": {
   "display_name": "Python 3",
   "language": "python",
   "name": "python3"
  },
  "language_info": {
   "codemirror_mode": {
    "name": "ipython",
    "version": 3
   },
   "file_extension": ".py",
   "mimetype": "text/x-python",
   "name": "python",
   "nbconvert_exporter": "python",
   "pygments_lexer": "ipython3",
   "version": "3.13.5"
  }
 },
 "nbformat": 4,
 "nbformat_minor": 5
}
